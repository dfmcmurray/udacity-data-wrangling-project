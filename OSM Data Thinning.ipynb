{
 "metadata": {
  "name": "",
  "signature": "sha256:65f69805f0ecc90eeb6930e79a33866dca476bd10fc3e102e51c0ff45706a88b"
 },
 "nbformat": 3,
 "nbformat_minor": 0,
 "worksheets": [
  {
   "cells": [
    {
     "cell_type": "code",
     "collapsed": false,
     "input": [
      "### Thin out the data file for project submission ###\n",
      "import xml.etree.cElementTree as ET  # Use cElementTree or lxml if too slow\n",
      "\n",
      "OSM_FILE = \"los-angeles_california.osm\"  # Replace this with your osm file\n",
      "SAMPLE_FILE = \"los-angeles_california_thinned.osm\"\n",
      "\n",
      "\n",
      "def get_element(osm_file, tags=('node', 'way', 'relation')):\n",
      "    \"\"\"Yield element if it is the right type of tag\n",
      "\n",
      "    Reference:\n",
      "    http://stackoverflow.com/questions/3095434/inserting-newlines-in-xml-file-generated-via-xml-etree-elementtree-in-python\n",
      "    \"\"\"\n",
      "    context = ET.iterparse(osm_file, events=('start', 'end'))\n",
      "    _, root = next(context)\n",
      "    for event, elem in context:\n",
      "        if event == 'end' and elem.tag in tags:\n",
      "            yield elem\n",
      "            root.clear()\n",
      "\n",
      "\n",
      "with open(SAMPLE_FILE, 'wb') as output:\n",
      "    output.write('<?xml version=\"1.0\" encoding=\"UTF-8\"?>\\n')\n",
      "    output.write('<osm>\\n  ')\n",
      "\n",
      "    # Write every 150th top level element\n",
      "    for i, element in enumerate(get_element(OSM_FILE)):\n",
      "        if i % 150 == 0:\n",
      "            output.write(ET.tostring(element, encoding='utf-8'))\n",
      "\n",
      "    output.write('</osm>')"
     ],
     "language": "python",
     "metadata": {},
     "outputs": [],
     "prompt_number": 3
    },
    {
     "cell_type": "code",
     "collapsed": false,
     "input": [],
     "language": "python",
     "metadata": {},
     "outputs": []
    }
   ],
   "metadata": {}
  }
 ]
}