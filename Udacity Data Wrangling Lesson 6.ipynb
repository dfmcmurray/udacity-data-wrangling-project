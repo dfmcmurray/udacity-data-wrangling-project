{
 "metadata": {
  "name": "",
  "signature": "sha256:ad84d5e80d9bb8630dfd6401c801f8d5e878526d24df0e126bf3c4a5e3a26da8"
 },
 "nbformat": 3,
 "nbformat_minor": 0,
 "worksheets": [
  {
   "cells": [
    {
     "cell_type": "code",
     "collapsed": false,
     "input": [
      "\"\"\"\n",
      "These are the solutions to the lesson 6 problem set from the \"Data Wrangling with MongoDB\" Udacity course.\n",
      "These solutions were modified for my final project, so I've copied them here for the graders' reference.\n",
      "\"\"\""
     ],
     "language": "python",
     "metadata": {},
     "outputs": []
    },
    {
     "cell_type": "code",
     "collapsed": false,
     "input": [
      "### count_tags from Iterative Parsing\n",
      "def count_tags(filename):\n",
      "    tagCounts = {}\n",
      "    for event, element in ET.iterparse(filename):\n",
      "        tagCounts[element.tag] = tagCounts.get(element.tag, 0) + 1\n",
      "    return tagCounts"
     ],
     "language": "python",
     "metadata": {},
     "outputs": [],
     "prompt_number": 1
    },
    {
     "cell_type": "code",
     "collapsed": false,
     "input": [
      "### key_type from Tag Types\n",
      "def key_type(element, keys):\n",
      "    if element.tag == \"tag\":\n",
      "        if lower.search(element.get(\"k\")):\n",
      "            keys[\"lower\"] += 1\n",
      "        elif lower_colon.search(element.get(\"k\")):\n",
      "            keys[\"lower_colon\"] += 1\n",
      "        elif problemchars.search(element.get(\"k\")):\n",
      "            keys[\"problemchars\"] += 1\n",
      "        else:\n",
      "            keys[\"other\"] += 1\n",
      "        \n",
      "    return keys"
     ],
     "language": "python",
     "metadata": {},
     "outputs": [],
     "prompt_number": 2
    },
    {
     "cell_type": "code",
     "collapsed": false,
     "input": [
      "### process_map from Exploring Users\n",
      "def process_map(filename):\n",
      "    users = set()\n",
      "    for _, element in ET.iterparse(filename):\n",
      "        if element.tag == \"node\" or element.tag == \"way\" or element.tag == \"relation\":\n",
      "            users.add(element.get(\"user\"))\n",
      "\n",
      "    return users"
     ],
     "language": "python",
     "metadata": {},
     "outputs": [],
     "prompt_number": 3
    },
    {
     "cell_type": "code",
     "collapsed": false,
     "input": [
      "### update_name from Improving Street Names\n",
      "def update_name(name, mapping):\n",
      "\n",
      "    name = \" \".join(name.split(\" \")[:-1] + [mapping.get(name.split(\" \")[-1], name.split(\" \")[-1])])\n",
      "\n",
      "    return name"
     ],
     "language": "python",
     "metadata": {},
     "outputs": [],
     "prompt_number": 5
    },
    {
     "cell_type": "code",
     "collapsed": false,
     "input": [
      "### shape_element from Preparing for Database\n",
      "def shape_element(element):\n",
      "    node = {}\n",
      "    if element.tag == \"node\" or element.tag == \"way\" :\n",
      "        print element.get(\"lat\"), element.get(\"lon\")\n",
      "        node = {\n",
      "            \"id\" : element.get(\"id\"),\n",
      "            \"type\" : element.tag,\n",
      "            \"visible\" : element.get(\"visible\"),\n",
      "            \"created\" : {\n",
      "                \"version\" : element.get(\"version\"),\n",
      "                \"changeset\" : element.get(\"changeset\"),\n",
      "                \"timestamp\" : element.get(\"timestamp\"),\n",
      "                \"user\" : element.get(\"user\"),\n",
      "                \"uid\" : element.get(\"uid\")\n",
      "            }\n",
      "        }\n",
      "        \n",
      "        address = {}\n",
      "        for tagEl in element.iter(\"tag\"):\n",
      "            if problemchars.match(tagEl.get(\"k\")):\n",
      "                continue\n",
      "            elif tagEl.get(\"k\").startswith(\"addr:\"):\n",
      "                components = tagEl.get(\"k\").split(\":\")\n",
      "                if len(components) == 2:\n",
      "                    address[components[1]] = tagEl.get(\"v\")\n",
      "            else:\n",
      "                node[tagEl.get(\"k\")] = tagEl.get(\"v\")\n",
      "        \n",
      "        node_refs = []\n",
      "        for ndEl in element.iter(\"nd\"):\n",
      "            node_refs.append(ndEl.get(\"ref\"))\n",
      "            \n",
      "        if len(address.keys()) > 0:\n",
      "            node[\"address\"] = address\n",
      "            \n",
      "        if len(node_refs) > 0:\n",
      "            node[\"node_refs\"] = node_refs\n",
      "            \n",
      "        if element.get(\"lat\") is not None and element.get(\"lon\") is not None:\n",
      "            node[\"pos\"] = [ float(element.get(\"lat\")), float(element.get(\"lon\")) ]\n",
      "                \n",
      "        return node\n",
      "    else:\n",
      "        return None\n"
     ],
     "language": "python",
     "metadata": {},
     "outputs": [],
     "prompt_number": 6
    },
    {
     "cell_type": "code",
     "collapsed": false,
     "input": [],
     "language": "python",
     "metadata": {},
     "outputs": []
    }
   ],
   "metadata": {}
  }
 ]
}